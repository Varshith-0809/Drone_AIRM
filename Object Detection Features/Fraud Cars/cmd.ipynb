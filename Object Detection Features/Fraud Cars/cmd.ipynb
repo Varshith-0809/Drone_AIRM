{
  "nbformat": 4,
  "nbformat_minor": 0,
  "metadata": {
    "colab": {
      "provenance": []
    },
    "kernelspec": {
      "name": "python3",
      "display_name": "Python 3"
    },
    "language_info": {
      "name": "python"
    }
  },
  "cells": [
    {
      "cell_type": "code",
      "source": [
        "from google.colab import drive\n",
        "drive.mount('/content/drive')"
      ],
      "metadata": {
        "colab": {
          "base_uri": "https://localhost:8080/"
        },
        "id": "cHr6MVMKG1WV",
        "outputId": "e3404fc5-0254-4f3f-b8b1-beb31b977fb4"
      },
      "execution_count": null,
      "outputs": [
        {
          "output_type": "stream",
          "name": "stdout",
          "text": [
            "Mounted at /content/drive\n"
          ]
        }
      ]
    },
    {
      "cell_type": "markdown",
      "source": [
        "# ***SVM***"
      ],
      "metadata": {
        "id": "2Yq4zJb3RFDm"
      }
    },
    {
      "cell_type": "code",
      "source": [
        "import os\n",
        "import cv2\n",
        "import numpy as np\n",
        "from sklearn.svm import SVC\n",
        "from sklearn.model_selection import train_test_split\n",
        "from sklearn.metrics import accuracy_score\n",
        "\n",
        "# Function to load and preprocess the images\n",
        "def load_and_preprocess_images(data_dir):\n",
        "    features = []\n",
        "    labels = []\n",
        "\n",
        "    for car_model in os.listdir(data_dir):\n",
        "        model_path = os.path.join(data_dir, car_model)\n",
        "        for image_file in os.listdir(model_path):\n",
        "            image_path = os.path.join(model_path, image_file)\n",
        "            image = cv2.imread(image_path, cv2.IMREAD_GRAYSCALE)\n",
        "            # Preprocess the image (e.g., resize and normalize)\n",
        "            preprocessed_image = cv2.resize(image, (100, 100)) / 255.0\n",
        "            # Append the preprocessed image to the features list\n",
        "            features.append(preprocessed_image)\n",
        "            # Append the label (car model) to the labels list\n",
        "            labels.append(car_model)\n",
        "\n",
        "    # Convert the features and labels lists to numpy arrays\n",
        "    features = np.array(features)\n",
        "    labels = np.array(labels)\n",
        "\n",
        "    return features, labels\n",
        "\n",
        "# Load and preprocess the images from the data directory\n",
        "data_dir = '/content/drive/MyDrive/Splited_dataset/train'\n",
        "X_train, y_train = load_and_preprocess_images(data_dir)\n",
        "\n",
        "# Split the data into training and testing sets\n",
        "X_train, X_test, y_train, y_test = train_test_split(X_train, y_train, test_size=0.2, random_state=42)\n",
        "\n",
        "# Initialize the SVM classifier\n",
        "svm_classifier = SVC(kernel='linear')\n",
        "\n",
        "# Fit the SVM classifier on the training set\n",
        "svm_classifier.fit(X_train.reshape(X_train.shape[0], -1), y_train)\n",
        "\n",
        "# Predict the car model for the test set\n",
        "y_pred = svm_classifier.predict(X_test.reshape(X_test.shape[0], -1))\n",
        "\n",
        "# Calculate accuracy on the test set\n",
        "accuracy = accuracy_score(y_test, y_pred)\n",
        "print(f\"Accuracy on the test set: {accuracy:.2f}\")\n"
      ],
      "metadata": {
        "colab": {
          "base_uri": "https://localhost:8080/"
        },
        "id": "rxYUsDOu8QEZ",
        "outputId": "eb675e81-e8f3-4c7b-c78b-732d540934a2"
      },
      "execution_count": null,
      "outputs": [
        {
          "output_type": "stream",
          "name": "stdout",
          "text": [
            "Accuracy on the test set: 0.23\n"
          ]
        }
      ]
    },
    {
      "cell_type": "code",
      "source": [
        "import cv2\n",
        "import numpy as np\n",
        "\n",
        "# Assuming you have already trained and have the SVM classifier\n",
        "\n",
        "# Load and preprocess the single test image\n",
        "single_test_image_path = '/content/drive/MyDrive/Splited_dataset/test/Toyota_fortuner/11822.jpg'\n",
        "single_test_image = cv2.imread(single_test_image_path, cv2.IMREAD_GRAYSCALE)\n",
        "single_preprocessed_image = cv2.resize(single_test_image, (100, 100)) / 255.0\n",
        "\n",
        "# Reshape the preprocessed image to be a 2D array with shape (1, height * width)\n",
        "single_preprocessed_image_reshaped = single_preprocessed_image.reshape(1, -1)\n",
        "\n",
        "# Predict the car model for the single test image\n",
        "predicted_label = svm_classifier.predict(single_preprocessed_image_reshaped)[0]\n",
        "\n",
        "# Print the predicted label\n",
        "print(f\"Predicted car model: {predicted_label}\")\n"
      ],
      "metadata": {
        "colab": {
          "base_uri": "https://localhost:8080/"
        },
        "id": "hwvOMdOg5yzB",
        "outputId": "140c6e78-2297-4b33-9137-16903650e062"
      },
      "execution_count": null,
      "outputs": [
        {
          "output_type": "stream",
          "name": "stdout",
          "text": [
            "Predicted car model: Suzuki_wagonR_2015\n"
          ]
        }
      ]
    },
    {
      "cell_type": "code",
      "source": [
        "import cv2\n",
        "import os\n",
        "import numpy as np\n",
        "\n",
        "# Assuming you have already trained the SVM classifier and have the svm_classifier object\n",
        "\n",
        "# Load and preprocess all the images in the \"Honda_civic_2015\" folder\n",
        "folder_path = '/content/drive/MyDrive/Splited_dataset/test/Honda_civic_2015'  # Replace with the path to your folder\n",
        "image_files = os.listdir(folder_path)\n",
        "\n",
        "for image_file in image_files:\n",
        "    # Load the image\n",
        "    image_path = os.path.join(folder_path, image_file)\n",
        "    image = cv2.imread(image_path, cv2.IMREAD_GRAYSCALE)\n",
        "\n",
        "    # Preprocess the image\n",
        "    preprocessed_image = cv2.resize(image, (100, 100)) / 255.0\n",
        "\n",
        "    # Reshape the preprocessed image to be a 1D array\n",
        "    test_feature_vector = preprocessed_image.reshape(1, -1)\n",
        "\n",
        "    # Predict the car model for the image\n",
        "    predicted_car_model = svm_classifier.predict(test_feature_vector)[0]\n",
        "\n",
        "    print(f\"Image: {image_file}, Predicted car model: {predicted_car_model}\")\n"
      ],
      "metadata": {
        "colab": {
          "base_uri": "https://localhost:8080/"
        },
        "id": "09QROt9HK2SI",
        "outputId": "059786f0-8aa4-466b-c7ad-a5b33ac00d50"
      },
      "execution_count": null,
      "outputs": [
        {
          "output_type": "stream",
          "name": "stdout",
          "text": [
            "Image: 6494.jpg, Predicted car model: Suzuki_cultus_2018\n",
            "Image: 793.jpg, Predicted car model: Honda_City_aspire\n",
            "Image: 5904.jpg, Predicted car model: Honda_City_aspire\n",
            "Image: 2455.jpg, Predicted car model: Suzuki_Every\n",
            "Image: 12825.jpg, Predicted car model: Toyota_corolla_2011\n",
            "Image: 4429.jpg, Predicted car model: Honda_civic_2007\n",
            "Image: 5901.jpg, Predicted car model: Honda_civic_2007\n"
          ]
        }
      ]
    },
    {
      "cell_type": "markdown",
      "source": [
        "# ***KNN***"
      ],
      "metadata": {
        "id": "rgpYv5jkQ5ff"
      }
    },
    {
      "cell_type": "code",
      "source": [
        "import cv2\n",
        "import os\n",
        "import numpy as np\n",
        "from sklearn.neighbors import KNeighborsClassifier\n",
        "from sklearn.metrics import accuracy_score\n",
        "\n",
        "# Function to load and preprocess data\n",
        "def load_data(data_dir):\n",
        "    features = []\n",
        "    labels = []\n",
        "    for car_model in os.listdir(data_dir):\n",
        "        model_path = os.path.join(data_dir, car_model)\n",
        "        for image_file in os.listdir(model_path):\n",
        "            image_path = os.path.join(model_path, image_file)\n",
        "            image = cv2.imread(image_path, cv2.IMREAD_GRAYSCALE)\n",
        "            preprocessed_image = cv2.resize(image, (100, 100)) / 255.0\n",
        "            feature_vector = preprocessed_image.reshape(-1)\n",
        "            features.append(feature_vector)\n",
        "            labels.append(car_model)\n",
        "    return np.array(features), np.array(labels)\n",
        "\n",
        "# Step 1: Load and preprocess the data\n",
        "train_data_dir = '/content/drive/MyDrive/Splited_dataset/train'\n",
        "X_train, y_train = load_data(train_data_dir)\n",
        "\n",
        "# Step 2: Initialize and train the k-NN classifier\n",
        "k =  9 # Number of neighbors to consider (you can experiment with different values)\n",
        "knn_classifier = KNeighborsClassifier(n_neighbors=k)\n",
        "knn_classifier.fit(X_train, y_train)\n",
        "\n",
        "# Step 3: Load and preprocess the test data (assuming the folder is 'test_data_directory')\n",
        "test_data_dir = '/content/drive/MyDrive/Splited_dataset/test'\n",
        "X_test, y_test = load_data(test_data_dir)\n",
        "\n",
        "# Step 4: Predict the car models for the test data\n",
        "y_pred = knn_classifier.predict(X_test)\n",
        "\n",
        "# Step 5: Calculate the accuracy of the model\n",
        "accuracy = accuracy_score(y_test, y_pred)\n",
        "print(f\"Accuracy on the test set: {accuracy:.2f}\")\n"
      ],
      "metadata": {
        "colab": {
          "base_uri": "https://localhost:8080/"
        },
        "id": "GRTBGFNjK99-",
        "outputId": "76877ea5-1fc4-4e78-a75a-7d7fe70c46f6"
      },
      "execution_count": null,
      "outputs": [
        {
          "output_type": "stream",
          "name": "stdout",
          "text": [
            "Accuracy on the test set: 0.14\n"
          ]
        }
      ]
    },
    {
      "cell_type": "code",
      "source": [
        "k = 5  # Number of neighbors to consider (you can experiment with different values)\n",
        "knn_classifier = KNeighborsClassifier(n_neighbors=k)\n",
        "knn_classifier.fit(X_train, y_train)\n",
        "\n",
        "# Step 3: Process all the images in the \"Honda_civic_2015\" folder\n",
        "test_data_dir = '/content/drive/MyDrive/Splited_dataset/test/Honda_civic_2018'  # Replace with the path to your Honda_civic_2015 folder\n",
        "for image_file in os.listdir(test_data_dir):\n",
        "    image_path = os.path.join(test_data_dir, image_file)\n",
        "    image = cv2.imread(image_path, cv2.IMREAD_GRAYSCALE)\n",
        "    preprocessed_image = cv2.resize(image, (100, 100)) / 255.0\n",
        "    test_feature_vector = preprocessed_image.reshape(1, -1)\n",
        "\n",
        "    # Step 4: Predict the car model for the image\n",
        "    predicted_car_model = knn_classifier.predict(test_feature_vector)[0]\n",
        "\n",
        "    print(f\"Image: {image_file}, Predicted car model: {predicted_car_model}\")"
      ],
      "metadata": {
        "id": "n8zZjXYdObTM"
      },
      "execution_count": null,
      "outputs": []
    },
    {
      "cell_type": "markdown",
      "source": [
        "# ***KNN with accuracy***"
      ],
      "metadata": {
        "id": "T1zSH8vxQwHv"
      }
    },
    {
      "cell_type": "code",
      "source": [
        "import cv2\n",
        "import os\n",
        "import numpy as np\n",
        "from sklearn.neighbors import KNeighborsClassifier\n",
        "from sklearn.metrics import accuracy_score\n",
        "\n",
        "# Function to load and preprocess data\n",
        "def load_data(data_dir):\n",
        "    features = []\n",
        "    labels = []\n",
        "    for car_model in os.listdir(data_dir):\n",
        "        model_path = os.path.join(data_dir, car_model)\n",
        "        for image_file in os.listdir(model_path):\n",
        "            image_path = os.path.join(model_path, image_file)\n",
        "            image = cv2.imread(image_path, cv2.IMREAD_GRAYSCALE)\n",
        "            preprocessed_image = cv2.resize(image, (100, 100)) / 255.0\n",
        "            feature_vector = preprocessed_image.reshape(-1)\n",
        "            features.append(feature_vector)\n",
        "            labels.append(car_model)\n",
        "    return np.array(features), np.array(labels)\n",
        "\n",
        "# Step 1: Load and preprocess the data\n",
        "train_data_dir = '/content/drive/MyDrive/Splited_dataset/train'\n",
        "X_train, y_train = load_data(train_data_dir)\n",
        "\n",
        "# Step 2: Initialize and train the k-NN classifier\n",
        "k = 5  # Number of neighbors to consider (you can experiment with different values)\n",
        "knn_classifier = KNeighborsClassifier(n_neighbors=k)\n",
        "knn_classifier.fit(X_train, y_train)\n",
        "\n",
        "# Step 3: Load and preprocess the test data for the entire test set\n",
        "test_data_dir = '/content/drive/MyDrive/Splited_dataset/test'\n",
        "X_test, y_test = load_data(test_data_dir)\n",
        "\n",
        "# Step 4: Predict the car models for the test set\n",
        "y_pred = knn_classifier.predict(X_test)\n",
        "\n",
        "# Step 5: Calculate the accuracy of the model on the entire test set\n",
        "accuracy = accuracy_score(y_test, y_pred)\n",
        "print(f\"Accuracy on the test set: {accuracy:.2f}\")\n",
        "\n",
        "# Step 6: Process all the images in the \"Honda_civic_2018\" folder\n",
        "test_folder_dir = '/content/drive/MyDrive/Splited_dataset/test/Honda_civic_2018'\n",
        "correct_predictions = 0\n",
        "total_images = 0\n",
        "for image_file in os.listdir(test_folder_dir):\n",
        "    image_path = os.path.join(test_folder_dir, image_file)\n",
        "    image = cv2.imread(image_path, cv2.IMREAD_GRAYSCALE)\n",
        "    preprocessed_image = cv2.resize(image, (100, 100)) / 255.0\n",
        "    test_feature_vector = preprocessed_image.reshape(1, -1)\n",
        "\n",
        "    # Step 7: Predict the car model for the image\n",
        "    predicted_car_model = knn_classifier.predict(test_feature_vector)[0]\n",
        "\n",
        "    # Step 8: Calculate accuracy for this image\n",
        "    ground_truth_label = \"Honda_civic_2018\"  # Replace with actual ground truth label\n",
        "    is_correct = ground_truth_label == predicted_car_model\n",
        "    accuracy_for_image = 1 if is_correct else 0\n",
        "    print(f\"Image: {image_file}, Predicted car model: {predicted_car_model}, Accuracy: {accuracy_for_image}\")\n",
        "\n",
        "    correct_predictions += is_correct\n",
        "    total_images += 1\n",
        "\n",
        "# Step 9: Calculate the overall accuracy on the \"Honda_civic_2018\" images\n",
        "accuracy_test_images = correct_predictions / total_images\n",
        "print(f\"Accuracy on the 'Honda_civic_2018' test images: {accuracy_test_images:.2f}\")\n"
      ],
      "metadata": {
        "colab": {
          "base_uri": "https://localhost:8080/"
        },
        "id": "GU5TCO3bP8Hr",
        "outputId": "819e2691-daba-4aae-8787-3774193eda2e"
      },
      "execution_count": null,
      "outputs": [
        {
          "output_type": "stream",
          "name": "stdout",
          "text": [
            "Accuracy on the test set: 0.14\n",
            "Image: 5778.jpg, Predicted car model: Suzuki_kyber, Accuracy: 0\n",
            "Image: 1263_old.jpg, Predicted car model: Honda_civic_2005, Accuracy: 0\n",
            "Image: 8092.jpg, Predicted car model: Honda_City_aspire, Accuracy: 0\n",
            "Image: 16918.jpg, Predicted car model: Honda_civic_2005, Accuracy: 0\n",
            "Image: 5777.jpg, Predicted car model: Toyota_Passo, Accuracy: 0\n",
            "Image: 18605.jpg, Predicted car model: Honda_civic_2007, Accuracy: 0\n",
            "Image: 1397_old.jpg, Predicted car model: Suzuki_alto_2007, Accuracy: 0\n",
            "Image: 851_old.jpg, Predicted car model: Honda_City_aspire, Accuracy: 0\n",
            "Image: 3770.jpg, Predicted car model: Honda_civic_2007, Accuracy: 0\n",
            "Image: 25459.jpg, Predicted car model: Honda_city_2000, Accuracy: 0\n",
            "Image: 24211.jpg, Predicted car model: Daiatsu_Mira, Accuracy: 0\n",
            "Image: 21923.jpg, Predicted car model: Daiatsu_Mira, Accuracy: 0\n",
            "Image: 18609.jpg, Predicted car model: Honda_civic_2007, Accuracy: 0\n",
            "Image: 10803.jpg, Predicted car model: Suzuki_carry, Accuracy: 0\n",
            "Image: 23620.jpg, Predicted car model: FAW_XPV, Accuracy: 0\n",
            "Image: 20980.jpg, Predicted car model: Daiatsu_Core, Accuracy: 0\n",
            "Image: 23622.jpg, Predicted car model: FAW_XPV, Accuracy: 0\n",
            "Image: 17191.jpg, Predicted car model: Honda_BRV, Accuracy: 0\n",
            "Image: 4861.jpg, Predicted car model: Honda_civic_2005, Accuracy: 0\n",
            "Image: 25461.jpg, Predicted car model: Honda_civic_2005, Accuracy: 0\n",
            "Accuracy on the 'Honda_civic_2018' test images: 0.00\n"
          ]
        }
      ]
    },
    {
      "cell_type": "markdown",
      "source": [
        "# ***Color detection***"
      ],
      "metadata": {
        "id": "rG5CKz_a5Brz"
      }
    },
    {
      "cell_type": "code",
      "source": [
        "import cv2\n",
        "import os\n",
        "import numpy as np\n",
        "from sklearn.svm import SVC\n",
        "from sklearn.metrics import accuracy_score\n",
        "\n",
        "# Function to load and preprocess data with HOG features\n",
        "def load_data(data_dir):\n",
        "    features = []\n",
        "    labels = []\n",
        "    for car_model in os.listdir(data_dir):\n",
        "        model_path = os.path.join(data_dir, car_model)\n",
        "        for image_file in os.listdir(model_path):\n",
        "            image_path = os.path.join(model_path, image_file)\n",
        "            image = cv2.imread(image_path)\n",
        "            preprocessed_image = cv2.resize(image, (64, 128))  # Resizing the image to meet HOG conditions\n",
        "            feature_vector = extract_hog_features(preprocessed_image)\n",
        "            features.append(feature_vector)\n",
        "            labels.append(car_model)\n",
        "    return np.array(features), np.array(labels)\n",
        "\n",
        "# Function to extract HOG features from an image\n",
        "def extract_hog_features(image):\n",
        "    gray_image = cv2.cvtColor(image, cv2.COLOR_BGR2GRAY)\n",
        "    winSize = (64, 128)\n",
        "    blockSize = (16, 16)\n",
        "    blockStride = (8, 8)\n",
        "    cellSize = (8, 8)\n",
        "    nbins = 9\n",
        "    derivAperture = 1\n",
        "    winSigma = -1.0\n",
        "    histogramNormType = 0\n",
        "    L2HysThreshold = 0.2\n",
        "    gammaCorrection = 1\n",
        "    nlevels = 64\n",
        "    hog = cv2.HOGDescriptor(winSize, blockSize, blockStride, cellSize, nbins, derivAperture, winSigma,\n",
        "                            histogramNormType, L2HysThreshold, gammaCorrection, nlevels)\n",
        "    feature_vector = hog.compute(gray_image)\n",
        "    return feature_vector.flatten()\n",
        "\n",
        "# Function to detect specified colors in an image\n",
        "def detect_colors(image, colors):\n",
        "    hsv_image = cv2.cvtColor(image, cv2.COLOR_BGR2HSV)\n",
        "    masks = [cv2.inRange(hsv_image, np.array(lower), np.array(upper)) for lower, upper in colors]\n",
        "    final_mask = masks[0]\n",
        "    for mask in masks[1:]:\n",
        "        final_mask = cv2.bitwise_or(final_mask, mask)\n",
        "    detected_image = cv2.bitwise_and(image, image, mask=final_mask)\n",
        "    return detected_image, final_mask\n",
        "\n",
        "# Function to find the most dominant color in an image region\n",
        "def find_dominant_color(region):\n",
        "    pixels = region.reshape(-1, 3)\n",
        "    color_counts = np.bincount(pixels[:, 0])\n",
        "    dominant_color = np.argmax(color_counts)\n",
        "    return dominant_color\n",
        "\n",
        "def map_color_to_name(color_number):\n",
        "    color_names = {\n",
        "        0: \"Black\",\n",
        "        19: \"Red\",\n",
        "        30: \"Green\",\n",
        "        40: \"Yellow\",\n",
        "        # Add more color mappings here\n",
        "    }\n",
        "    return color_names.get(color_number, \"Unknown\")\n",
        "# Step 1: Load and preprocess the data (using HOG features)\n"
      ],
      "metadata": {
        "id": "Eq7c7DNzAmTt"
      },
      "execution_count": null,
      "outputs": []
    },
    {
      "cell_type": "code",
      "source": [
        "train_data_dir = '/content/drive/MyDrive/Splited_dataset/train'\n",
        "X_train, y_train = load_data(train_data_dir)\n",
        "\n",
        "# Step 2: Initialize and train the SVM classifier\n",
        "svm_classifier = SVC(kernel='linear')\n",
        "svm_classifier.fit(X_train, y_train)\n",
        "\n",
        "# Step 3: Process all the images in the \"Honda_civic_2018\" folder\n",
        "test_folder_dir = '/content/drive/MyDrive/Splited_dataset/test/Honda_civic_2018'\n",
        "\n",
        "# Colors to detect (you can change these to any other colors you want)\n"
      ],
      "metadata": {
        "id": "Plmc12y-AqGC"
      },
      "execution_count": null,
      "outputs": []
    },
    {
      "cell_type": "markdown",
      "source": [],
      "metadata": {
        "id": "lm0cZGAvCfW_"
      }
    },
    {
      "cell_type": "code",
      "source": [
        "colors_to_detect = [\n",
        "    ([0, 120, 70], [10, 255, 255]),   # Red\n",
        "    ([35, 120, 70], [50, 255, 255]),  # Green\n",
        "    ([110, 120, 70], [130, 255, 255]),  # Blue\n",
        "    ([20, 100, 100], [30, 255, 255]),  # Yellow\n",
        "    ([0, 0, 0], [180, 255, 100])      # Black\n",
        "]\n",
        "\n",
        "for image_file in os.listdir(test_folder_dir):\n",
        "    image_path = os.path.join(test_folder_dir, image_file)\n",
        "    image = cv2.imread(image_path)\n",
        "\n",
        "    # Detect the specified colors in the image\n",
        "    detected_image, color_mask = detect_colors(image, colors_to_detect)\n",
        "\n",
        "    # Find the dominant color in each color-detected region\n",
        "    dominant_colors = []\n",
        "    contours, _ = cv2.findContours(color_mask, cv2.RETR_EXTERNAL, cv2.CHAIN_APPROX_SIMPLE)\n",
        "    for contour in contours:\n",
        "        region = image.copy()\n",
        "        x, y, w, h = cv2.boundingRect(contour)\n",
        "        region = region[y:y + h, x:x + w]\n",
        "        dominant_color = find_dominant_color(region)\n",
        "        dominant_colors.append(dominant_color)\n",
        "\n",
        "    # Predict the car model for the image\n",
        "    preprocessed_image = cv2.resize(image, (64, 128))\n",
        "    test_feature_vector = extract_hog_features(preprocessed_image)\n",
        "    predicted_car_model = svm_classifier.predict(test_feature_vector.reshape(1, -1))[0]\n",
        "\n",
        "    # Map color numbers to color names\n",
        "    color_names = [map_color_to_name(color_number) for color_number in dominant_colors]\n",
        "\n",
        "    # Display the original image, the detected colors, the dominant colors (as numbers), and the predicted car model\n",
        "    cv2_imshow(image)\n",
        "    cv2_imshow(detected_image)\n",
        "    print(f\"Image: {image_file}, Detected Colors: {color_names}, Predicted car model: {predicted_car_model}\")\n",
        "\n",
        "    cv2.waitKey(0)\n",
        "\n",
        "cv2.destroyAllWindows()"
      ],
      "metadata": {
        "id": "bj_YTjo8Cfz6"
      },
      "execution_count": null,
      "outputs": []
    }
  ]
}